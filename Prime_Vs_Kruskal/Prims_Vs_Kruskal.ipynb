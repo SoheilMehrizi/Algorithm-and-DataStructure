{
 "cells": [
  {
   "cell_type": "markdown",
   "id": "645a5bd5-7371-45fb-95d2-fcecadbcb894",
   "metadata": {},
   "source": [
    "# Dependencies"
   ]
  },
  {
   "cell_type": "code",
   "execution_count": 10,
   "id": "5365b85c-cad6-44be-a7ae-261e29e1b05a",
   "metadata": {},
   "outputs": [],
   "source": [
    "import pandas as pd\n",
    "import numpy as np\n",
    "import time\n",
    "import threading"
   ]
  },
  {
   "cell_type": "markdown",
   "id": "aef57ad1-2de8-42a6-8294-6a8b0b0c3eff",
   "metadata": {},
   "source": [
    "# Generating Graph"
   ]
  },
  {
   "cell_type": "code",
   "execution_count": 11,
   "id": "71becac0-ab5e-4a82-9dca-583f288eef5e",
   "metadata": {},
   "outputs": [],
   "source": [
    "import random\n",
    "\n",
    "def generate_graph_entries(num_vertices):\n",
    "    vertices = [chr(ord('A') + i) for i in range(num_vertices)]\n",
    "    edges_data = {'source': [], 'destination': [], 'weight': []}\n",
    "\n",
    "    for i in range(num_vertices):\n",
    "        for j in range(i + 1, num_vertices):\n",
    "            edges_data['source'].append(vertices[i])\n",
    "            edges_data['destination'].append(vertices[j])\n",
    "            edges_data['weight'].append(random.randint(1, 10))\n",
    "\n",
    "    edges_df = pd.DataFrame(edges_data)\n",
    "\n",
    "    return vertices, edges_df"
   ]
  },
  {
   "cell_type": "markdown",
   "id": "33ceaa24-abb6-4492-9282-41c263310ae8",
   "metadata": {},
   "source": [
    "# Prims Algorithm\n",
    "\n",
    "1. Initialize an empty set to store selected vertices (MSTSet) and an empty list to store minimum spanning tree edges (mstEdges).\r\n",
    "2. Randomly choose a starting vertex to begin the algorithm.\r\n",
    "3. Add the starting vertex to the MSTSet.\r\n",
    "4. While MSTSet does not contain all vertices:\r\n",
    "      a. Find the minimum-weight edge that connects a vertex in MSTSet to a vertex not in MSTSet.\r\n",
    "      b. Add the destination vertex of the minimum-weight edge to MSTSet.\r\n",
    "      c. Add the minimum-weight edge to mstEdges.\r\n",
    "5. Return mstEdges, which represents the minimum spanning tree."
   ]
  },
  {
   "cell_type": "code",
   "execution_count": 12,
   "id": "0be206e2-1eab-45f7-94fa-3bbda50ba7d3",
   "metadata": {},
   "outputs": [
    {
     "name": "stdout",
     "output_type": "stream",
     "text": [
      "Minimum Spanning Tree:\n",
      "('A', 'D', 4)\n",
      "('B', 'D', 4)\n",
      "('D', 'F', 4)\n",
      "('F', 'G', 1)\n",
      "('E', 'G', 2)\n",
      "('C', 'G', 4)\n"
     ]
    }
   ],
   "source": [
    "class PrimMST:\n",
    "    def __init__(self, vertices, edges):\n",
    "        self.vertices = vertices\n",
    "        self.edges = edges\n",
    "        self.mst = []\n",
    "\n",
    "    def prim(self):\n",
    "        selected_vertices = set()\n",
    "        start_vertex = self.vertices[0]\n",
    "        selected_vertices.add(start_vertex)\n",
    "\n",
    "        while len(selected_vertices) < len(self.vertices):\n",
    "            min_weight = float('inf')\n",
    "            min_edge = None\n",
    "            for vertex in selected_vertices:\n",
    "                edges_from_vertex = self.edges[(self.edges['source'] == vertex) | (self.edges['destination'] == vertex)]\n",
    "                for _, edge in edges_from_vertex.iterrows():\n",
    "                    if (edge['source'] in selected_vertices and edge['destination'] not in selected_vertices\n",
    "                        and edge['weight'] < min_weight):\n",
    "                        min_weight = edge['weight']\n",
    "                        min_edge = (edge['source'], edge['destination'], min_weight)\n",
    "                    elif (edge['destination'] in selected_vertices and edge['source'] not in selected_vertices\n",
    "                          and edge['weight'] < min_weight):\n",
    "                        min_weight = edge['weight']\n",
    "                        min_edge = (edge['source'], edge['destination'], min_weight)\n",
    "\n",
    "            self.mst.append(min_edge)\n",
    "            selected_vertices.add(min_edge[0])\n",
    "            selected_vertices.add(min_edge[1])\n",
    "\n",
    "        return self.mst\n",
    "\n",
    "# Example usage\n",
    "\n",
    "num_vertices = 7\n",
    "vertices, edges_df = generate_graph_entries(num_vertices)\n",
    "prim = PrimMST(vertices, edges_df)\n",
    "minimum_spanning_tree = prim.prim()\n",
    "print(\"Minimum Spanning Tree:\")\n",
    "for edge in minimum_spanning_tree:\n",
    "    print(edge)"
   ]
  },
  {
   "cell_type": "markdown",
   "id": "4472fc2f-765f-45cd-9ef0-2aae732a0e1f",
   "metadata": {},
   "source": [
    "# Kruskal Algorithm\n",
    "\n",
    "1. Initialize an empty list to store the minimum spanning tree edges (mstEdges).\r\n",
    "2. Sort all the edges of the graph in non-decreasing order of their weight.\r\n",
    "3. Initialize a disjoint set data structure to keep track of connected components.\r\n",
    "4. For each vertex in the graph, create a set containing only that vertex.\r\n",
    "5. For each edge (u, v) in the sorted edges:\r\n",
    "      a. If the sets containing u and v are not the same (i.e., adding the edge does not create a cycle):\r\n",
    "           i. Add the edge (u, v) to mstEdges.\r\n",
    "           ii. Merge the sets containing u and v.\r\n",
    "6. Return mstEdges, which represents the minimum spanning tree."
   ]
  },
  {
   "cell_type": "code",
   "execution_count": 13,
   "id": "bfc44d4f-6a92-41f3-a35d-49a231e5e7ba",
   "metadata": {},
   "outputs": [
    {
     "name": "stdout",
     "output_type": "stream",
     "text": [
      "Minimum Spanning Tree:\n",
      "('B', 'G', 1)\n",
      "('D', 'E', 2)\n",
      "('A', 'F', 3)\n",
      "('C', 'D', 4)\n",
      "('F', 'G', 4)\n",
      "('E', 'G', 5)\n"
     ]
    }
   ],
   "source": [
    "class KruskalMST:\n",
    "    def __init__(self, vertices, edges):\n",
    "        self.vertices = vertices\n",
    "        self.edges = edges\n",
    "        self.parent = {}\n",
    "        self.mst = []\n",
    "\n",
    "    def make_set(self, vertex):\n",
    "        self.parent[vertex] = vertex\n",
    "\n",
    "    def find(self, vertex):\n",
    "        if self.parent[vertex] != vertex:\n",
    "            self.parent[vertex] = self.find(self.parent[vertex])\n",
    "        return self.parent[vertex]\n",
    "\n",
    "    def union(self, vertex1, vertex2):\n",
    "        root1 = self.find(vertex1)\n",
    "        root2 = self.find(vertex2)\n",
    "        self.parent[root1] = root2\n",
    "\n",
    "    def kruskal(self):\n",
    "        for vertex in self.vertices:\n",
    "            self.make_set(vertex)\n",
    "\n",
    "        sorted_edges = self.edges.sort_values(by='weight')\n",
    "\n",
    "        for _, edge in sorted_edges.iterrows():\n",
    "            source, destination, weight = edge\n",
    "            if self.find(source) != self.find(destination):\n",
    "                self.mst.append((source, destination, weight))\n",
    "                self.union(source, destination)\n",
    "\n",
    "        return self.mst\n",
    "\n",
    "# Example usage\n",
    "num_vertices = 7\n",
    "vertices, edges_df = generate_graph_entries(num_vertices)\n",
    "kruskal = KruskalMST(vertices, edges_df)\n",
    "minimum_spanning_tree = kruskal.kruskal()\n",
    "print(\"Minimum Spanning Tree:\")\n",
    "for edge in minimum_spanning_tree:\n",
    "    print(edge)"
   ]
  },
  {
   "cell_type": "markdown",
   "id": "7b3ee14a-6612-42fd-829a-700d53497c7f",
   "metadata": {},
   "source": [
    "# Running algorithms in parallel"
   ]
  },
  {
   "cell_type": "code",
   "execution_count": 9,
   "id": "e19b5bf4-3f56-4b0e-9d46-7ca949dd0688",
   "metadata": {},
   "outputs": [
    {
     "name": "stdout",
     "output_type": "stream",
     "text": [
      "Kruskal's Minimum Spanning Tree:\n",
      "('C', 'D', 1)\n",
      "('D', 'E', 1)\n",
      "('A', 'E', 5)\n",
      "('A', 'B', 7)\n",
      "\n",
      "Prim's Minimum Spanning Tree:\n",
      "('A', 'E', 5)\n",
      "('D', 'E', 1)\n",
      "('C', 'D', 1)\n",
      "('A', 'B', 7)\n",
      "\n",
      "Time taken by Kruskal's algorithm: 0.0019989013671875 seconds\n",
      "Time taken by Prim's algorithm: 0.013001680374145508 seconds\n"
     ]
    }
   ],
   "source": [
    "\n",
    "def run_kruskal(vertices, edges_df, result_list, time_list):\n",
    "    start_time = time.time()\n",
    "    kruskal = KruskalMST(vertices, edges_df)\n",
    "    minimum_spanning_tree = kruskal.kruskal()\n",
    "    end_time = time.time()\n",
    "    result_list.append(minimum_spanning_tree)\n",
    "    time_list.append(end_time - start_time)\n",
    "\n",
    "def run_prim(vertices, edges_df, result_list, time_list):\n",
    "    start_time = time.time()\n",
    "    prim = PrimMST(vertices, edges_df)\n",
    "    minimum_spanning_tree = prim.prim()\n",
    "    end_time = time.time()\n",
    "    result_list.append(minimum_spanning_tree)\n",
    "    time_list.append(end_time - start_time)\n",
    "\n",
    "num_vertices = 5\n",
    "vertices, edges_df = generate_graph_entries(num_vertices)\n",
    "\n",
    "kruskal_result = []\n",
    "prim_result = []\n",
    "kruskal_time = []\n",
    "prim_time = []\n",
    "\n",
    "# Create threads for Kruskal's and Prim's algorithms\n",
    "thread_kruskal = threading.Thread(target=run_kruskal, args=(vertices, edges_df, kruskal_result, kruskal_time))\n",
    "thread_prim = threading.Thread(target=run_prim, args=(vertices, edges_df, prim_result, prim_time))\n",
    "\n",
    "# Start the threads\n",
    "thread_kruskal.start()\n",
    "thread_prim.start()\n",
    "\n",
    "# Wait for the threads to finish\n",
    "thread_kruskal.join()\n",
    "thread_prim.join()\n",
    "\n",
    "print(\"Kruskal's Minimum Spanning Tree:\")\n",
    "for edge in kruskal_result[0]:\n",
    "    print(edge)\n",
    "\n",
    "print(\"\\nPrim's Minimum Spanning Tree:\")\n",
    "for edge in prim_result[0]:\n",
    "    print(edge)\n",
    "\n",
    "print(\"\\nTime taken by Kruskal's algorithm:\", kruskal_time[0], \"seconds\")\n",
    "print(\"Time taken by Prim's algorithm:\", prim_time[0], \"seconds\")"
   ]
  },
  {
   "cell_type": "code",
   "execution_count": null,
   "id": "255ed169-ce32-4f93-95a0-3842e0163cc4",
   "metadata": {},
   "outputs": [],
   "source": []
  }
 ],
 "metadata": {
  "kernelspec": {
   "display_name": "Python 3 (ipykernel)",
   "language": "python",
   "name": "python3"
  },
  "language_info": {
   "codemirror_mode": {
    "name": "ipython",
    "version": 3
   },
   "file_extension": ".py",
   "mimetype": "text/x-python",
   "name": "python",
   "nbconvert_exporter": "python",
   "pygments_lexer": "ipython3",
   "version": "3.11.7"
  }
 },
 "nbformat": 4,
 "nbformat_minor": 5
}
